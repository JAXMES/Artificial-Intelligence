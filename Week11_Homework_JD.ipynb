{
  "nbformat": 4,
  "nbformat_minor": 0,
  "metadata": {
    "colab": {
      "name": "Week11_Homework -JD",
      "provenance": [],
      "include_colab_link": true
    },
    "kernelspec": {
      "name": "python3",
      "display_name": "Python 3"
    },
    "language_info": {
      "name": "python"
    }
  },
  "cells": [
    {
      "cell_type": "markdown",
      "metadata": {
        "id": "view-in-github",
        "colab_type": "text"
      },
      "source": [
        "<a href=\"https://colab.research.google.com/github/JAXMES/Artificial-Intelligence/blob/main/Week11_Homework_JD.ipynb\" target=\"_parent\"><img src=\"https://colab.research.google.com/assets/colab-badge.svg\" alt=\"Open In Colab\"/></a>"
      ]
    },
    {
      "cell_type": "markdown",
      "metadata": {
        "id": "C9hqHPqhuh5K"
      },
      "source": [
        "# Week 11 Homework\n",
        "In this assignment, we will analyze the Titanic dataset with the Decision Tree model and the Random Forest model.\n",
        "\n",
        "On April 15, 1912, during her maiden voyage, the widely considered unsinkable” RMS Titanic sank after colliding with an iceberg. Unfortunately, there weren’t enough lifeboats for everyone onboard, resulting in the death of 1502 out of 2224 passengers and crew. While there was some element of luck involved in surviving, it seems some groups of people were more likely to survive than others.\n",
        "\n",
        "1. Load the data using the code given below. "
      ]
    },
    {
      "cell_type": "code",
      "metadata": {
        "id": "Qz_yzdcduh7x"
      },
      "source": [
        "import numpy as np\n",
        "import pandas as pd\n",
        "import matplotlib.pyplot as plt\n",
        "%matplotlib inline"
      ],
      "execution_count": null,
      "outputs": []
    },
    {
      "cell_type": "code",
      "metadata": {
        "colab": {
          "base_uri": "https://localhost:8080/",
          "height": 198
        },
        "id": "1TGcaV4Cuh-X",
        "outputId": "1ce50c98-a0b3-4ada-ff55-7dbca8f402fe"
      },
      "source": [
        "titanic_url = \"https://gist.githubusercontent.com/michhar/2dfd2de0d4f8727f873422c5d959fff5/raw/fa71405126017e6a37bea592440b4bee94bf7b9e/titanic.csv\"\n",
        "titanic = pd.read_csv(titanic_url).drop(['PassengerId', 'Name', 'Ticket', 'Cabin', 'Embarked'], axis=1).dropna()\n",
        "titanic['Sex'] = titanic['Sex'].apply(lambda x: int(x == 'male'))\n",
        "titanic.head()"
      ],
      "execution_count": null,
      "outputs": [
        {
          "output_type": "execute_result",
          "data": {
            "text/html": [
              "<div>\n",
              "<style scoped>\n",
              "    .dataframe tbody tr th:only-of-type {\n",
              "        vertical-align: middle;\n",
              "    }\n",
              "\n",
              "    .dataframe tbody tr th {\n",
              "        vertical-align: top;\n",
              "    }\n",
              "\n",
              "    .dataframe thead th {\n",
              "        text-align: right;\n",
              "    }\n",
              "</style>\n",
              "<table border=\"1\" class=\"dataframe\">\n",
              "  <thead>\n",
              "    <tr style=\"text-align: right;\">\n",
              "      <th></th>\n",
              "      <th>Survived</th>\n",
              "      <th>Pclass</th>\n",
              "      <th>Sex</th>\n",
              "      <th>Age</th>\n",
              "      <th>SibSp</th>\n",
              "      <th>Parch</th>\n",
              "      <th>Fare</th>\n",
              "    </tr>\n",
              "  </thead>\n",
              "  <tbody>\n",
              "    <tr>\n",
              "      <th>0</th>\n",
              "      <td>0</td>\n",
              "      <td>3</td>\n",
              "      <td>1</td>\n",
              "      <td>22.0</td>\n",
              "      <td>1</td>\n",
              "      <td>0</td>\n",
              "      <td>7.2500</td>\n",
              "    </tr>\n",
              "    <tr>\n",
              "      <th>1</th>\n",
              "      <td>1</td>\n",
              "      <td>1</td>\n",
              "      <td>0</td>\n",
              "      <td>38.0</td>\n",
              "      <td>1</td>\n",
              "      <td>0</td>\n",
              "      <td>71.2833</td>\n",
              "    </tr>\n",
              "    <tr>\n",
              "      <th>2</th>\n",
              "      <td>1</td>\n",
              "      <td>3</td>\n",
              "      <td>0</td>\n",
              "      <td>26.0</td>\n",
              "      <td>0</td>\n",
              "      <td>0</td>\n",
              "      <td>7.9250</td>\n",
              "    </tr>\n",
              "    <tr>\n",
              "      <th>3</th>\n",
              "      <td>1</td>\n",
              "      <td>1</td>\n",
              "      <td>0</td>\n",
              "      <td>35.0</td>\n",
              "      <td>1</td>\n",
              "      <td>0</td>\n",
              "      <td>53.1000</td>\n",
              "    </tr>\n",
              "    <tr>\n",
              "      <th>4</th>\n",
              "      <td>0</td>\n",
              "      <td>3</td>\n",
              "      <td>1</td>\n",
              "      <td>35.0</td>\n",
              "      <td>0</td>\n",
              "      <td>0</td>\n",
              "      <td>8.0500</td>\n",
              "    </tr>\n",
              "  </tbody>\n",
              "</table>\n",
              "</div>"
            ],
            "text/plain": [
              "   Survived  Pclass  Sex   Age  SibSp  Parch     Fare\n",
              "0         0       3    1  22.0      1      0   7.2500\n",
              "1         1       1    0  38.0      1      0  71.2833\n",
              "2         1       3    0  26.0      0      0   7.9250\n",
              "3         1       1    0  35.0      1      0  53.1000\n",
              "4         0       3    1  35.0      0      0   8.0500"
            ]
          },
          "metadata": {
            "tags": []
          },
          "execution_count": 3
        }
      ]
    },
    {
      "cell_type": "markdown",
      "metadata": {
        "id": "DAtmnSlQuiBV"
      },
      "source": [
        "The features are:\n",
        "- Survived: whether the passenger survived. This is the target feature.\n",
        "- Pclass: the ticket class\n",
        "- Sex: 0 means female, 1 means male.\n",
        "- Age\n",
        "- SibSp: number of siblings / spouses aboard the Titanic\n",
        "- Parch: number of parents / children aboard the Titanic\n",
        "- Fare\n",
        "\n",
        "2. Split the data into training set (80%) and test set (20%)\n",
        "3. Build a decision tree model on the training set for max_depth = 2, 3, 4. Use the test set to determine which model has the best performance.\n",
        "4. Use `plot_tree` function from `sklearn` to visualize the best decision tree model. Describe one group of passengers are likely to survive. If the generated graph is too small, you can add the statement `plt.figure(figsize=(12,12))` **before** the `plot_tree` statement to make the graph larger.\n",
        "5. Build a random forest model with the same `max_depth` value and `n_estimators=100`. Show the accuracy score on the test set."
      ]
    },
    {
      "cell_type": "code",
      "metadata": {
        "id": "MoR7MOi7uiEP"
      },
      "source": [
        "# 2. Split the data into training (80%) and testing(20%)\n",
        "\n",
        "from sklearn.model_selection import train_test_split\n",
        "titanic_train, titanic_test = train_test_split(titanic, test_size = 0.2)"
      ],
      "execution_count": null,
      "outputs": []
    },
    {
      "cell_type": "code",
      "metadata": {
        "id": "CPDCxYvbuiHJ",
        "colab": {
          "base_uri": "https://localhost:8080/"
        },
        "outputId": "8e5fe88e-93a0-4206-a85c-c9260cc9deeb"
      },
      "source": [
        "# 3. Build a decision tree model on the training set for max_depth = 2, 3, 4. Use the test set to determine which model has the best performance\n",
        "\n",
        "from sklearn.tree import DecisionTreeClassifier\n",
        "\n",
        "input_cols = titanic_train.columns[1:]\n",
        "X = titanic_train.loc[:, input_cols]\n",
        "y = titanic_train['Survived']\n",
        "\n",
        "#Max_depth = 2\n",
        "tree_clf_2 = DecisionTreeClassifier(max_depth=2,\n",
        " random_state=42)\n",
        "\n",
        "tree_clf_2.fit(X, y)\n",
        "\n",
        "#Max_depth = 3\n",
        "tree_clf_3 = DecisionTreeClassifier(max_depth=3,\n",
        " random_state=42)\n",
        "\n",
        "tree_clf_3.fit(X, y)\n",
        "\n",
        "#Max_depth = 4\n",
        "tree_clf_4 = DecisionTreeClassifier(max_depth=4,\n",
        " random_state=42)\n",
        "\n",
        "tree_clf_4.fit(X, y)\n"
      ],
      "execution_count": null,
      "outputs": [
        {
          "output_type": "execute_result",
          "data": {
            "text/plain": [
              "DecisionTreeClassifier(ccp_alpha=0.0, class_weight=None, criterion='gini',\n",
              "                       max_depth=4, max_features=None, max_leaf_nodes=None,\n",
              "                       min_impurity_decrease=0.0, min_impurity_split=None,\n",
              "                       min_samples_leaf=1, min_samples_split=2,\n",
              "                       min_weight_fraction_leaf=0.0, presort='deprecated',\n",
              "                       random_state=42, splitter='best')"
            ]
          },
          "metadata": {
            "tags": []
          },
          "execution_count": 32
        }
      ]
    },
    {
      "cell_type": "code",
      "metadata": {
        "id": "OBVfY_QZuiKA",
        "colab": {
          "base_uri": "https://localhost:8080/"
        },
        "outputId": "3ebc026e-062c-41c5-82da-d2cafb02b4f8"
      },
      "source": [
        "# Best performance\n",
        "from sklearn.metrics import accuracy_score\n",
        "\n",
        "predictions_2 = tree_clf_2.predict(titanic_test[input_cols])\n",
        "accuracy_2 = accuracy_score(titanic_test['Survived'], predictions_2)\n",
        "print(accuracy_2)\n",
        "\n",
        "predictions_3 = tree_clf_3.predict(titanic_test[input_cols])\n",
        "accuracy_3 = accuracy_score(titanic_test['Survived'], predictions_3)\n",
        "print(accuracy_3)\n",
        "\n",
        "predictions_4 = tree_clf_4.predict(titanic_test[input_cols])\n",
        "accuracy_4 = accuracy_score(titanic_test['Survived'], predictions_4)\n",
        "print(accuracy_4)\n"
      ],
      "execution_count": null,
      "outputs": [
        {
          "output_type": "stream",
          "text": [
            "0.7902097902097902\n",
            "0.7622377622377622\n",
            "0.7692307692307693\n"
          ],
          "name": "stdout"
        }
      ]
    },
    {
      "cell_type": "code",
      "metadata": {
        "id": "lhbHiHUOuiM0",
        "colab": {
          "base_uri": "https://localhost:8080/",
          "height": 746
        },
        "outputId": "2e1249e2-c777-4561-cc6f-2e8a492b6f7f"
      },
      "source": [
        "# 4. Use plot_tree function from sklearn to visualize the best decision tree model. Describe one group of passengers are likely to survive. If the generated graph is too small, you can add the statement plt.figure(figsize=(12,12)) before the plot_tree statement to make the graph larger.\n",
        "\n",
        "from sklearn.tree import plot_tree\n",
        "plot_tree(tree_clf_2, feature_names=X.columns, filled=True)\n",
        "# Max_depth = 2\n",
        "plt.show()\n",
        "\n",
        "# Max_depth = 3\n",
        "plot_tree(tree_clf_3, feature_names=X.columns, filled=True)\n",
        "plt.figure(figsize=(12,12))\n",
        "plt.show()\n",
        "\n",
        "# Max_depth = 4\n",
        "plot_tree(tree_clf_4, feature_names=X.columns, filled=True)\n",
        "plt.figure(figsize=(12,12))\n",
        "plt.show()"
      ],
      "execution_count": null,
      "outputs": [
        {
          "output_type": "display_data",
          "data": {
            "image/png": "[encoded data removed]",
            "text/plain": [
              "<Figure size 432x288 with 1 Axes>"
            ]
          },
          "metadata": {
            "tags": [],
            "needs_background": "light"
          }
        },
        {
          "output_type": "display_data",
          "data": {
            "image/png": "[encoded data removed]",
            "text/plain": [
              "<Figure size 432x288 with 1 Axes>"
            ]
          },
          "metadata": {
            "tags": [],
            "needs_background": "light"
          }
        },
        {
          "output_type": "display_data",
          "data": {
            "text/plain": [
              "<Figure size 864x864 with 0 Axes>"
            ]
          },
          "metadata": {
            "tags": []
          }
        },
        {
          "output_type": "display_data",
          "data": {
            "image/png": "[encoded data removed]",
            "text/plain": [
              "<Figure size 432x288 with 1 Axes>"
            ]
          },
          "metadata": {
            "tags": [],
            "needs_background": "light"
          }
        },
        {
          "output_type": "display_data",
          "data": {
            "text/plain": [
              "<Figure size 864x864 with 0 Axes>"
            ]
          },
          "metadata": {
            "tags": []
          }
        }
      ]
    },
    {
      "cell_type": "code",
      "metadata": {
        "id": "UAj_5H2IuiP1",
        "colab": {
          "base_uri": "https://localhost:8080/"
        },
        "outputId": "d0acf6e7-4b65-4b21-f6f7-5a6a6d0ff236"
      },
      "source": [
        "# 5. Build a random forest model with the same max_depth value and n_estimators=100\n",
        "\n",
        "\n",
        "from sklearn.ensemble import RandomForestClassifier\n",
        "input_cols = titanic_train.columns[1:]\n",
        "X = titanic_train.loc[:, input_cols]\n",
        "y = titanic_train['Survived']\n",
        "\n",
        "#Max_depth = 2\n",
        "rf_clf_2 = RandomForestClassifier(\n",
        " n_estimators=100,\n",
        " max_depth=2,\n",
        " n_jobs=-1)\n",
        "rf_clf_2.fit(X, y)\n",
        "\n",
        "\n",
        "#Max_depth = 3\n",
        "rf_clf_3 = RandomForestClassifier(n_estimators=100,\n",
        " max_depth=3,\n",
        " n_jobs=-1)\n",
        "rf_clf_3.fit(X, y)\n",
        "\n",
        "#Max_depth = 4\n",
        "rf_clf_4 = RandomForestClassifier(\n",
        " n_estimators=100,\n",
        " max_depth=4,\n",
        " n_jobs=-1\n",
        ")\n",
        "rf_clf_4.fit(X, y)\n"
      ],
      "execution_count": null,
      "outputs": [
        {
          "output_type": "execute_result",
          "data": {
            "text/plain": [
              "RandomForestClassifier(bootstrap=True, ccp_alpha=0.0, class_weight=None,\n",
              "                       criterion='gini', max_depth=4, max_features='auto',\n",
              "                       max_leaf_nodes=None, max_samples=None,\n",
              "                       min_impurity_decrease=0.0, min_impurity_split=None,\n",
              "                       min_samples_leaf=1, min_samples_split=2,\n",
              "                       min_weight_fraction_leaf=0.0, n_estimators=100,\n",
              "                       n_jobs=-1, oob_score=False, random_state=None, verbose=0,\n",
              "                       warm_start=False)"
            ]
          },
          "metadata": {
            "tags": []
          },
          "execution_count": 35
        }
      ]
    },
    {
      "cell_type": "code",
      "metadata": {
        "id": "LDBSBjOl6DLx",
        "colab": {
          "base_uri": "https://localhost:8080/"
        },
        "outputId": "94e364fd-59d6-4e4c-f56c-5974059689e8"
      },
      "source": [
        "# Show the accuracy score\n",
        "test_predictions_2 = rf_clf_2.predict(titanic_test[input_cols])\n",
        "accuracy_2 = accuracy_score(titanic_test['Survived'], test_predictions_2)\n",
        "print(accuracy_2)\n",
        "\n",
        "test_predictions_3 = rf_clf_3.predict(titanic_test[input_cols])\n",
        "accuracy_3 = accuracy_score(titanic_test['Survived'], test_predictions_3)\n",
        "print(accuracy_3)\n",
        "\n",
        "test_predictions_4 = rf_clf_4.predict(titanic_test[input_cols])\n",
        "accuracy_4 = accuracy_score(titanic_test['Survived'], test_predictions_4)\n",
        "print(accuracy_4)"
      ],
      "execution_count": null,
      "outputs": [
        {
          "output_type": "stream",
          "text": [
            "0.7762237762237763\n",
            "0.8251748251748252\n",
            "0.8111888111888111\n"
          ],
          "name": "stdout"
        }
      ]
    }
  ]
}