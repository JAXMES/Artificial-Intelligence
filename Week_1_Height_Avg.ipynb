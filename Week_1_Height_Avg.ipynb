{
  "nbformat": 4,
  "nbformat_minor": 0,
  "metadata": {
    "colab": {
      "name": "Week 1 - Height Avg.ipynb",
      "provenance": [],
      "include_colab_link": true
    },
    "kernelspec": {
      "name": "python3",
      "display_name": "Python 3"
    }
  },
  "cells": [
    {
      "cell_type": "markdown",
      "metadata": {
        "id": "view-in-github",
        "colab_type": "text"
      },
      "source": [
        "<a href=\"https://colab.research.google.com/github/JAXMES/Artificial-Intelligence/blob/main/Week_1_Height_Avg.ipynb\" target=\"_parent\"><img src=\"https://colab.research.google.com/assets/colab-badge.svg\" alt=\"Open In Colab\"/></a>"
      ]
    },
    {
      "cell_type": "code",
      "metadata": {
        "colab": {
          "base_uri": "https://localhost:8080/"
        },
        "id": "WTySh5Mn-NB-",
        "outputId": "53c31c43-f0dc-4e72-acc0-0ab990ea65be"
      },
      "source": [
        "#decades_avg_height = {1900:170, 1910:172.1,1920:173.1, 1930:173.4, 1940:176.1, 1950:177.1,1960:177.3, 1970:178.3, 1980:179}\n",
        "\n",
        "year_list = [1900, 1910, 1920, 1930, 1940, 1950, 1960, 1970, 1980]\n",
        "height_list = [170, 172.1, 173.1, 173.4, 176.1, 177.1, 177.3, 178.3, 179]\n",
        "\n",
        "dic_year_avg = {}\n",
        "\n",
        "\n",
        "def height_avg(list1):\n",
        "\n",
        "  list_lenght = len(list1)\n",
        "  list_plus_one = 1;\n",
        "  avg_decades = 0;\n",
        "  \n",
        "\n",
        "\n",
        "# add info to dic. while printing | fix printing format so we can show the years and the results too| dictionary must have from this year to that year\n",
        "\n",
        "  for i in height_list:\n",
        "\n",
        "    if list_plus_one < list_lenght:\n",
        "\n",
        "      \n",
        "      avg_decades = '{0:.3%}'.format((abs(i-list1[list_plus_one]))/i)\n",
        "    \n",
        "      \n",
        "\n",
        "      print(year_list[list_plus_one-1], \"-\",  year_list[list_plus_one],\" = \", avg_decades)\n",
        "      dic_year_avg[year_list[list_plus_one-1], \"-\" ,year_list[list_plus_one]] = avg_decades\n",
        "      \n",
        "      list_plus_one += 1;\n",
        "\n",
        "\n",
        "    \n",
        "\n",
        "  \n",
        "  MaxDictVal = max(dic_year_avg, key=dic_year_avg.get)\n",
        "  print(\"The 10 years were men's height increased the fastest was\",MaxDictVal, \"=\", dic_year_avg[MaxDictVal])\n",
        "\n",
        "\n",
        "print(height_avg(height_list))"
      ],
      "execution_count": null,
      "outputs": [
        {
          "output_type": "stream",
          "text": [
            "1900 - 1910  =  1.235%\n",
            "1910 - 1920  =  0.581%\n",
            "1920 - 1930  =  0.173%\n",
            "1930 - 1940  =  1.557%\n",
            "1940 - 1950  =  0.568%\n",
            "1950 - 1960  =  0.113%\n",
            "1960 - 1970  =  0.564%\n",
            "1970 - 1980  =  0.393%\n",
            "The 10 years were men's height increased the fastest was (1930, '-', 1940) = 1.557%\n",
            "None\n"
          ],
          "name": "stdout"
        }
      ]
    }
  ]
}