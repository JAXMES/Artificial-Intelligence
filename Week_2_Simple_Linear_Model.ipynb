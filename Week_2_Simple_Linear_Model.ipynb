{
  "nbformat": 4,
  "nbformat_minor": 0,
  "metadata": {
    "colab": {
      "name": "Week 2: Simple Linear Model.ipynb",
      "provenance": [],
      "include_colab_link": true
    },
    "kernelspec": {
      "display_name": "Python 3",
      "name": "python3"
    }
  },
  "cells": [
    {
      "cell_type": "markdown",
      "metadata": {
        "id": "view-in-github",
        "colab_type": "text"
      },
      "source": [
        "<a href=\"https://colab.research.google.com/github/JAXMES/Artificial-Intelligence/blob/main/Week_2_Simple_Linear_Model.ipynb\" target=\"_parent\"><img src=\"https://colab.research.google.com/assets/colab-badge.svg\" alt=\"Open In Colab\"/></a>"
      ]
    },
    {
      "cell_type": "code",
      "metadata": {
        "id": "UMu_GOrrhwPS"
      },
      "source": [
        "import numpy as np  # scientific computation\n",
        "import pandas as pd  # data handling\n",
        "import matplotlib.pyplot as plt  # plotting\n",
        "# The following \"magic command\" allows figures to be displayed automatically in notebook\n",
        "%matplotlib inline"
      ],
      "execution_count": null,
      "outputs": []
    },
    {
      "cell_type": "code",
      "metadata": {
        "colab": {
          "base_uri": "https://localhost:8080/",
          "height": 314
        },
        "id": "bkU3zPnQhziB",
        "outputId": "e299c7d5-07a6-49a7-9f31-0de568b64677"
      },
      "source": [
        "raw_data = pd.read_csv(\"countries_men_height.csv\", sep=',')\n",
        "\n",
        "raw_data.head()\n",
        "\n",
        "filter3 = (raw_data['Entity'] == \"United Kingdom\") & (raw_data['Year'] >= 1900)\n",
        "# print(filter3)\n",
        "data = raw_data[filter3]\n",
        "data"
      ],
      "execution_count": null,
      "outputs": [
        {
          "output_type": "execute_result",
          "data": {
            "text/html": [
              "<div>\n",
              "<style scoped>\n",
              "    .dataframe tbody tr th:only-of-type {\n",
              "        vertical-align: middle;\n",
              "    }\n",
              "\n",
              "    .dataframe tbody tr th {\n",
              "        vertical-align: top;\n",
              "    }\n",
              "\n",
              "    .dataframe thead th {\n",
              "        text-align: right;\n",
              "    }\n",
              "</style>\n",
              "<table border=\"1\" class=\"dataframe\">\n",
              "  <thead>\n",
              "    <tr style=\"text-align: right;\">\n",
              "      <th></th>\n",
              "      <th>Entity</th>\n",
              "      <th>Code</th>\n",
              "      <th>Year</th>\n",
              "      <th>Human Height (cm)</th>\n",
              "    </tr>\n",
              "  </thead>\n",
              "  <tbody>\n",
              "    <tr>\n",
              "      <th>1185</th>\n",
              "      <td>United Kingdom</td>\n",
              "      <td>GBR</td>\n",
              "      <td>1900</td>\n",
              "      <td>169.4</td>\n",
              "    </tr>\n",
              "    <tr>\n",
              "      <th>1186</th>\n",
              "      <td>United Kingdom</td>\n",
              "      <td>GBR</td>\n",
              "      <td>1910</td>\n",
              "      <td>170.9</td>\n",
              "    </tr>\n",
              "    <tr>\n",
              "      <th>1187</th>\n",
              "      <td>United Kingdom</td>\n",
              "      <td>GBR</td>\n",
              "      <td>1920</td>\n",
              "      <td>171.0</td>\n",
              "    </tr>\n",
              "    <tr>\n",
              "      <th>1188</th>\n",
              "      <td>United Kingdom</td>\n",
              "      <td>GBR</td>\n",
              "      <td>1930</td>\n",
              "      <td>173.9</td>\n",
              "    </tr>\n",
              "    <tr>\n",
              "      <th>1189</th>\n",
              "      <td>United Kingdom</td>\n",
              "      <td>GBR</td>\n",
              "      <td>1940</td>\n",
              "      <td>174.9</td>\n",
              "    </tr>\n",
              "    <tr>\n",
              "      <th>1190</th>\n",
              "      <td>United Kingdom</td>\n",
              "      <td>GBR</td>\n",
              "      <td>1950</td>\n",
              "      <td>176.0</td>\n",
              "    </tr>\n",
              "    <tr>\n",
              "      <th>1191</th>\n",
              "      <td>United Kingdom</td>\n",
              "      <td>GBR</td>\n",
              "      <td>1960</td>\n",
              "      <td>176.9</td>\n",
              "    </tr>\n",
              "    <tr>\n",
              "      <th>1192</th>\n",
              "      <td>United Kingdom</td>\n",
              "      <td>GBR</td>\n",
              "      <td>1970</td>\n",
              "      <td>177.1</td>\n",
              "    </tr>\n",
              "    <tr>\n",
              "      <th>1193</th>\n",
              "      <td>United Kingdom</td>\n",
              "      <td>GBR</td>\n",
              "      <td>1980</td>\n",
              "      <td>176.8</td>\n",
              "    </tr>\n",
              "  </tbody>\n",
              "</table>\n",
              "</div>"
            ],
            "text/plain": [
              "              Entity Code  Year  Human Height (cm)\n",
              "1185  United Kingdom  GBR  1900              169.4\n",
              "1186  United Kingdom  GBR  1910              170.9\n",
              "1187  United Kingdom  GBR  1920              171.0\n",
              "1188  United Kingdom  GBR  1930              173.9\n",
              "1189  United Kingdom  GBR  1940              174.9\n",
              "1190  United Kingdom  GBR  1950              176.0\n",
              "1191  United Kingdom  GBR  1960              176.9\n",
              "1192  United Kingdom  GBR  1970              177.1\n",
              "1193  United Kingdom  GBR  1980              176.8"
            ]
          },
          "metadata": {
            "tags": []
          },
          "execution_count": 24
        }
      ]
    },
    {
      "cell_type": "code",
      "metadata": {
        "colab": {
          "base_uri": "https://localhost:8080/",
          "height": 343
        },
        "id": "n5JKf396h2rx",
        "outputId": "872bcf36-4b7c-41c2-c6f6-0883a4841d43"
      },
      "source": [
        "#Clean data\n",
        "\n",
        "data = data.set_index([\"Year\"])\n",
        "data.head()\n",
        "\n",
        "data.drop([\"Entity\", 'Code'], axis=1, inplace=True)\n",
        "\n",
        "# axis specifies row drop or column drop\n",
        "# axis=0 means row drop\n",
        "# axis=1 means column drop\n",
        "# inplace determines whether the modification is done to the original data frame\n",
        "# inplace=True means modifying the original data frame\n",
        "# inplace=False means create a new data frame for the modification\n",
        "\n",
        "data.head()\n",
        "\n",
        "data_new = data.drop([1900, 1910, 1960], axis=0, inplace=False)\n",
        "data_new\n",
        "data"
      ],
      "execution_count": null,
      "outputs": [
        {
          "output_type": "execute_result",
          "data": {
            "text/html": [
              "<div>\n",
              "<style scoped>\n",
              "    .dataframe tbody tr th:only-of-type {\n",
              "        vertical-align: middle;\n",
              "    }\n",
              "\n",
              "    .dataframe tbody tr th {\n",
              "        vertical-align: top;\n",
              "    }\n",
              "\n",
              "    .dataframe thead th {\n",
              "        text-align: right;\n",
              "    }\n",
              "</style>\n",
              "<table border=\"1\" class=\"dataframe\">\n",
              "  <thead>\n",
              "    <tr style=\"text-align: right;\">\n",
              "      <th></th>\n",
              "      <th>Human Height (cm)</th>\n",
              "    </tr>\n",
              "    <tr>\n",
              "      <th>Year</th>\n",
              "      <th></th>\n",
              "    </tr>\n",
              "  </thead>\n",
              "  <tbody>\n",
              "    <tr>\n",
              "      <th>1900</th>\n",
              "      <td>169.4</td>\n",
              "    </tr>\n",
              "    <tr>\n",
              "      <th>1910</th>\n",
              "      <td>170.9</td>\n",
              "    </tr>\n",
              "    <tr>\n",
              "      <th>1920</th>\n",
              "      <td>171.0</td>\n",
              "    </tr>\n",
              "    <tr>\n",
              "      <th>1930</th>\n",
              "      <td>173.9</td>\n",
              "    </tr>\n",
              "    <tr>\n",
              "      <th>1940</th>\n",
              "      <td>174.9</td>\n",
              "    </tr>\n",
              "    <tr>\n",
              "      <th>1950</th>\n",
              "      <td>176.0</td>\n",
              "    </tr>\n",
              "    <tr>\n",
              "      <th>1960</th>\n",
              "      <td>176.9</td>\n",
              "    </tr>\n",
              "    <tr>\n",
              "      <th>1970</th>\n",
              "      <td>177.1</td>\n",
              "    </tr>\n",
              "    <tr>\n",
              "      <th>1980</th>\n",
              "      <td>176.8</td>\n",
              "    </tr>\n",
              "  </tbody>\n",
              "</table>\n",
              "</div>"
            ],
            "text/plain": [
              "      Human Height (cm)\n",
              "Year                   \n",
              "1900              169.4\n",
              "1910              170.9\n",
              "1920              171.0\n",
              "1930              173.9\n",
              "1940              174.9\n",
              "1950              176.0\n",
              "1960              176.9\n",
              "1970              177.1\n",
              "1980              176.8"
            ]
          },
          "metadata": {
            "tags": []
          },
          "execution_count": 25
        }
      ]
    },
    {
      "cell_type": "code",
      "metadata": {
        "colab": {
          "base_uri": "https://localhost:8080/"
        },
        "id": "2NBmJ_21h6uq",
        "outputId": "7513ee1b-e46a-4f2f-862a-555282f816af"
      },
      "source": [
        "# Height Rate Variation (Calculation)\n",
        "height_rate_variation = []\n",
        "for year in data.index:\n",
        "    if year == 1900:\n",
        "      continue\n",
        "    else:\n",
        "      last_year = year - 10\n",
        "      div_heights =  data.loc[year, 'Human Height (cm)'] - \\\n",
        "                      data.loc[last_year, 'Human Height (cm)']\n",
        "      rate = div_heights / 10\n",
        "      height_rate_variation.append(rate)\n",
        "print(height_rate_variation)"
      ],
      "execution_count": null,
      "outputs": [
        {
          "output_type": "stream",
          "text": [
            "[0.15, 0.009999999999999431, 0.2900000000000006, 0.1, 0.10999999999999943, 0.09000000000000057, 0.019999999999998862, -0.029999999999998295]\n"
          ],
          "name": "stdout"
        }
      ]
    },
    {
      "cell_type": "code",
      "metadata": {
        "colab": {
          "base_uri": "https://localhost:8080/",
          "height": 298
        },
        "id": "K61I0kzUiBFR",
        "outputId": "7d3ade06-ed51-40a5-c3b7-714dd25b269b"
      },
      "source": [
        "# Modeling preparations\n",
        "m = np.mean(height_rate_variation)\n",
        "b = data.loc[1900, 'Human Height (cm)'] - m * 1900\n",
        "print(m, b)\n",
        "\n",
        "# X data\n",
        "x = np.linspace(1900, 1980, 100)\n",
        "\n",
        "\n",
        "# Y data\n",
        "y = m * x + b\n",
        "\n",
        "\n",
        "# Plotting the data\n",
        "years = data.index\n",
        "heights = data['Human Height (cm)']\n",
        "plt.plot(x, y, 'b-')\n",
        "plt.plot(years, heights, 'yo')"
      ],
      "execution_count": null,
      "outputs": [
        {
          "output_type": "stream",
          "text": [
            "0.09250000000000008 -6.350000000000136\n"
          ],
          "name": "stdout"
        },
        {
          "output_type": "execute_result",
          "data": {
            "text/plain": [
              "[<matplotlib.lines.Line2D at 0x7fb4a80bc0f0>]"
            ]
          },
          "metadata": {
            "tags": []
          },
          "execution_count": 33
        },
        {
          "output_type": "display_data",
          "data": {
            "image/png": "[encoded data removed]",
            "text/plain": [
              "<Figure size 432x288 with 1 Axes>"
            ]
          },
          "metadata": {
            "tags": [],
            "needs_background": "light"
          }
        }
      ]
    },
    {
      "cell_type": "code",
      "metadata": {
        "colab": {
          "base_uri": "https://localhost:8080/"
        },
        "id": "nw9yYg0digsa",
        "outputId": "c40070cc-88a4-4108-92e2-d685e6118e5f"
      },
      "source": [
        "# mean square error (MSE)\n",
        "# Calculate errors for each year\n",
        "# Calculate errors for each year\n",
        "\n",
        "# all the years are contained in data.index \n",
        "\n",
        "errors = []\n",
        "\n",
        "for year in data.index:\n",
        "    # Calculate the squared error for that year\n",
        "    x = year\n",
        "    y = data.loc[x, 'Human Height (cm)']\n",
        "    prediction = m * x + b\n",
        "    error = (prediction - y) ** 2\n",
        "\n",
        "    # append the error to the errors list\n",
        "    errors.append(error)\n",
        "\n",
        "# Now you should have a list of errors.\n",
        "print(errors)"
      ],
      "execution_count": null,
      "outputs": [
        {
          "output_type": "stream",
          "text": [
            "[0.0, 0.3306249999999869, 0.06250000000001421, 2.9756249999999804, 3.2399999999999385, 3.9006249999998652, 3.802499999999956, 1.5006249999999164, 8.077935669463161e-28]\n"
          ],
          "name": "stdout"
        }
      ]
    },
    {
      "cell_type": "code",
      "metadata": {
        "colab": {
          "base_uri": "https://localhost:8080/"
        },
        "id": "ni3kLkqkih7p",
        "outputId": "a9e41437-98a9-4c8e-a140-b19f2c14caa4"
      },
      "source": [
        "# Calculate the mean squared error, use np.mean() function\n",
        "print(np.mean(errors))\n",
        "\n",
        "# The MSE should be evaluated relatively."
      ],
      "execution_count": null,
      "outputs": [
        {
          "output_type": "stream",
          "text": [
            "1.7569444444444062\n"
          ],
          "name": "stdout"
        }
      ]
    }
  ]
}