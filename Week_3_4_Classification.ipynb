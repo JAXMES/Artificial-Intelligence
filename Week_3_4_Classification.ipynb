{
  "nbformat": 4,
  "nbformat_minor": 0,
  "metadata": {
    "colab": {
      "name": "Week 3-4: Classification.ipynb",
      "provenance": [],
      "collapsed_sections": [],
      "include_colab_link": true
    },
    "kernelspec": {
      "name": "python3",
      "display_name": "Python 3"
    }
  },
  "cells": [
    {
      "cell_type": "markdown",
      "metadata": {
        "id": "view-in-github",
        "colab_type": "text"
      },
      "source": [
        "<a href=\"https://colab.research.google.com/github/JAXMES/Artificial-Intelligence/blob/main/Week_3_4_Classification.ipynb\" target=\"_parent\"><img src=\"https://colab.research.google.com/assets/colab-badge.svg\" alt=\"Open In Colab\"/></a>"
      ]
    },
    {
      "cell_type": "code",
      "metadata": {
        "colab": {
          "base_uri": "https://localhost:8080/",
          "height": 195
        },
        "id": "NnFVUAMTGZGE",
        "outputId": "36cc7639-0988-4578-8231-a7f773a1495e"
      },
      "source": [
        "import numpy as np\n",
        "import pandas as pd\n",
        "import matplotlib.pyplot as plt\n",
        "%matplotlib inline\n",
        "\n",
        "from sklearn.model_selection import train_test_split\n",
        "from sklearn.metrics import accuracy_score\n",
        "from sklearn.neighbors import KNeighborsClassifier\n",
        "\n",
        "url = \"https://raw.githubusercontent.com/empathy87/The-Elements-of-Statistical-Learning-Python-Notebooks/master/data/mixture.txt\"\n",
        "# Open the url in web brower and learn its raw format\n",
        "\n",
        "\n",
        "\n",
        "# Load to Python as a data frame\n",
        "raw_data = pd.read_csv(url, sep=',')\n",
        "\n",
        "# Display first 5 rows\n",
        "raw_data.head()"
      ],
      "execution_count": null,
      "outputs": [
        {
          "output_type": "execute_result",
          "data": {
            "text/html": [
              "<div>\n",
              "<style scoped>\n",
              "    .dataframe tbody tr th:only-of-type {\n",
              "        vertical-align: middle;\n",
              "    }\n",
              "\n",
              "    .dataframe tbody tr th {\n",
              "        vertical-align: top;\n",
              "    }\n",
              "\n",
              "    .dataframe thead th {\n",
              "        text-align: right;\n",
              "    }\n",
              "</style>\n",
              "<table border=\"1\" class=\"dataframe\">\n",
              "  <thead>\n",
              "    <tr style=\"text-align: right;\">\n",
              "      <th></th>\n",
              "      <th>x1</th>\n",
              "      <th>x2</th>\n",
              "      <th>y</th>\n",
              "    </tr>\n",
              "  </thead>\n",
              "  <tbody>\n",
              "    <tr>\n",
              "      <th>0</th>\n",
              "      <td>2.526093</td>\n",
              "      <td>0.321050</td>\n",
              "      <td>0</td>\n",
              "    </tr>\n",
              "    <tr>\n",
              "      <th>1</th>\n",
              "      <td>0.366954</td>\n",
              "      <td>0.031462</td>\n",
              "      <td>0</td>\n",
              "    </tr>\n",
              "    <tr>\n",
              "      <th>2</th>\n",
              "      <td>0.768219</td>\n",
              "      <td>0.717486</td>\n",
              "      <td>0</td>\n",
              "    </tr>\n",
              "    <tr>\n",
              "      <th>3</th>\n",
              "      <td>0.693436</td>\n",
              "      <td>0.777194</td>\n",
              "      <td>0</td>\n",
              "    </tr>\n",
              "    <tr>\n",
              "      <th>4</th>\n",
              "      <td>-0.019837</td>\n",
              "      <td>0.867254</td>\n",
              "      <td>0</td>\n",
              "    </tr>\n",
              "  </tbody>\n",
              "</table>\n",
              "</div>"
            ],
            "text/plain": [
              "         x1        x2  y\n",
              "0  2.526093  0.321050  0\n",
              "1  0.366954  0.031462  0\n",
              "2  0.768219  0.717486  0\n",
              "3  0.693436  0.777194  0\n",
              "4 -0.019837  0.867254  0"
            ]
          },
          "metadata": {
            "tags": []
          },
          "execution_count": 22
        }
      ]
    },
    {
      "cell_type": "code",
      "metadata": {
        "colab": {
          "base_uri": "https://localhost:8080/"
        },
        "id": "O58QV5xdItNI",
        "outputId": "e8951e9b-c7e7-4e57-bd03-db7f7a394db3"
      },
      "source": [
        "# Show the data type of each column\n",
        "raw_data.dtypes"
      ],
      "execution_count": null,
      "outputs": [
        {
          "output_type": "execute_result",
          "data": {
            "text/plain": [
              "x1    float64\n",
              "x2    float64\n",
              "y       int64\n",
              "dtype: object"
            ]
          },
          "metadata": {
            "tags": []
          },
          "execution_count": 23
        }
      ]
    },
    {
      "cell_type": "code",
      "metadata": {
        "colab": {
          "base_uri": "https://localhost:8080/"
        },
        "id": "v8sQOSaeIytH",
        "outputId": "eb108895-4697-4dda-c9ee-1fa040b07533"
      },
      "source": [
        "# kNN model (1)\n",
        "\n",
        "model_1nn = KNeighborsClassifier(n_neighbors=1)\n",
        "model_1nn.fit(raw_data[['x1', 'x2']], raw_data['y'])"
      ],
      "execution_count": null,
      "outputs": [
        {
          "output_type": "execute_result",
          "data": {
            "text/plain": [
              "KNeighborsClassifier(algorithm='auto', leaf_size=30, metric='minkowski',\n",
              "                     metric_params=None, n_jobs=None, n_neighbors=1, p=2,\n",
              "                     weights='uniform')"
            ]
          },
          "metadata": {
            "tags": []
          },
          "execution_count": 24
        }
      ]
    },
    {
      "cell_type": "code",
      "metadata": {
        "colab": {
          "base_uri": "https://localhost:8080/",
          "height": 195
        },
        "id": "0r2hyykkJpA_",
        "outputId": "51bdb8dc-8ca5-465d-9cad-5bf91ba52e58"
      },
      "source": [
        "# How to evaluate the kNN model?\n",
        "\n",
        "# Visualize the decision region.\n",
        "\n",
        "# 1. create a 100 * 100 grid of points to cover the entire plane.\n",
        "input_cols = ['x1', 'x2']\n",
        "\n",
        "plot_data = pd.DataFrame()\n",
        "x1_coordinates = np.linspace(-3, 4, 100) # sample 100 points per row\n",
        "x2_coordinates = np.linspace(-2, 3, 100) # sample 100 rows (total: 100 * 100 = 10,000 points)\n",
        "for x1 in x1_coordinates:\n",
        "    for x2 in x2_coordinates:\n",
        "        plot_data = plot_data.append({'x1': x1,\n",
        "                               'x2': x2},\n",
        "                              ignore_index=True)\n",
        "plot_data\n",
        "\n",
        "# 2. use the kNN model to make a prediction on each of the 10,000 points.\n",
        "plot_data['prediction'] = model_1nn.predict(plot_data[input_cols])\n",
        "plot_data.head()"
      ],
      "execution_count": null,
      "outputs": [
        {
          "output_type": "execute_result",
          "data": {
            "text/html": [
              "<div>\n",
              "<style scoped>\n",
              "    .dataframe tbody tr th:only-of-type {\n",
              "        vertical-align: middle;\n",
              "    }\n",
              "\n",
              "    .dataframe tbody tr th {\n",
              "        vertical-align: top;\n",
              "    }\n",
              "\n",
              "    .dataframe thead th {\n",
              "        text-align: right;\n",
              "    }\n",
              "</style>\n",
              "<table border=\"1\" class=\"dataframe\">\n",
              "  <thead>\n",
              "    <tr style=\"text-align: right;\">\n",
              "      <th></th>\n",
              "      <th>x1</th>\n",
              "      <th>x2</th>\n",
              "      <th>prediction</th>\n",
              "    </tr>\n",
              "  </thead>\n",
              "  <tbody>\n",
              "    <tr>\n",
              "      <th>0</th>\n",
              "      <td>-3.0</td>\n",
              "      <td>-2.000000</td>\n",
              "      <td>0</td>\n",
              "    </tr>\n",
              "    <tr>\n",
              "      <th>1</th>\n",
              "      <td>-3.0</td>\n",
              "      <td>-1.949495</td>\n",
              "      <td>0</td>\n",
              "    </tr>\n",
              "    <tr>\n",
              "      <th>2</th>\n",
              "      <td>-3.0</td>\n",
              "      <td>-1.898990</td>\n",
              "      <td>0</td>\n",
              "    </tr>\n",
              "    <tr>\n",
              "      <th>3</th>\n",
              "      <td>-3.0</td>\n",
              "      <td>-1.848485</td>\n",
              "      <td>0</td>\n",
              "    </tr>\n",
              "    <tr>\n",
              "      <th>4</th>\n",
              "      <td>-3.0</td>\n",
              "      <td>-1.797980</td>\n",
              "      <td>0</td>\n",
              "    </tr>\n",
              "  </tbody>\n",
              "</table>\n",
              "</div>"
            ],
            "text/plain": [
              "    x1        x2  prediction\n",
              "0 -3.0 -2.000000           0\n",
              "1 -3.0 -1.949495           0\n",
              "2 -3.0 -1.898990           0\n",
              "3 -3.0 -1.848485           0\n",
              "4 -3.0 -1.797980           0"
            ]
          },
          "metadata": {
            "tags": []
          },
          "execution_count": 25
        }
      ]
    },
    {
      "cell_type": "code",
      "metadata": {
        "colab": {
          "base_uri": "https://localhost:8080/",
          "height": 312
        },
        "id": "6eiIDlBJND94",
        "outputId": "b3148a12-b3fc-4926-83b7-95539f7f2d96"
      },
      "source": [
        "blue_pts = raw_data[raw_data['y'] == 0]\n",
        "red_pts = raw_data[raw_data['y'] == 1]\n",
        "plt.plot(blue_pts['x1'], blue_pts['x2'], 'b.', label='y = 0')\n",
        "plt.plot(red_pts['x1'], red_pts['x2'], 'r.', label='y = 1')\n",
        "plt.title('Visualization of Data Set')\n",
        "plt.xlabel('x1')\n",
        "plt.ylabel('x2')"
      ],
      "execution_count": null,
      "outputs": [
        {
          "output_type": "execute_result",
          "data": {
            "text/plain": [
              "Text(0, 0.5, 'x2')"
            ]
          },
          "metadata": {
            "tags": []
          },
          "execution_count": 26
        },
        {
          "output_type": "display_data",
          "data": {
            "image/png": "[encoded data removed]",
            "text/plain": [
              "<Figure size 432x288 with 1 Axes>"
            ]
          },
          "metadata": {
            "tags": [],
            "needs_background": "light"
          }
        }
      ]
    },
    {
      "cell_type": "code",
      "metadata": {
        "colab": {
          "base_uri": "https://localhost:8080/",
          "height": 282
        },
        "id": "U-OP9HRBMEM5",
        "outputId": "79d80e1f-6ec8-40f5-bf82-f9b743a00ff8"
      },
      "source": [
        "#   points classified as 1 should be visualized as red points.\n",
        "\n",
        "test_data_blue = plot_data[plot_data['prediction'] == 0]\n",
        "test_data_red = plot_data[plot_data['prediction'] == 1]\n",
        "plt.plot(test_data_blue['x1'], test_data_blue['x2'], 'b.', alpha=0.1)\n",
        "plt.plot(test_data_red['x1'], test_data_red['x2'], 'r.', alpha=0.1)\n",
        "plt.plot(blue_pts['x1'], blue_pts['x2'], 'b^', label='y = 0')\n",
        "plt.plot(red_pts['x1'], red_pts['x2'], 'r^', label='y = 1')"
      ],
      "execution_count": null,
      "outputs": [
        {
          "output_type": "execute_result",
          "data": {
            "text/plain": [
              "[<matplotlib.lines.Line2D at 0x7f5777d6c450>]"
            ]
          },
          "metadata": {
            "tags": []
          },
          "execution_count": 27
        },
        {
          "output_type": "display_data",
          "data": {
            "image/png": "[encoded data removed]",
            "text/plain": [
              "<Figure size 432x288 with 1 Axes>"
            ]
          },
          "metadata": {
            "tags": [],
            "needs_background": "light"
          }
        }
      ]
    },
    {
      "cell_type": "code",
      "metadata": {
        "colab": {
          "base_uri": "https://localhost:8080/"
        },
        "id": "-_L9IZvRQXRZ",
        "outputId": "62189c68-f7de-4c4b-99bd-6a4a6e6deb3b"
      },
      "source": [
        "# Calculate the accuracy score on the test set.\n",
        "\n",
        "# Split the dataset into training set and test set.\n",
        "# Set the size of test set to be 20%.\n",
        "\n",
        "# train_test_split\n",
        "\n",
        "training_data, test_data = train_test_split(raw_data, test_size=0.2)\n",
        "\n",
        "model_1nn_2 = KNeighborsClassifier(n_neighbors=1)\n",
        "model_1nn_2.fit(training_data[input_cols], training_data['y'])\n",
        "\n",
        "test_data['prediction'] = model_1nn_2.predict(test_data[input_cols])\n",
        "test_data.head()\n",
        "\n",
        "accuracy_score(test_data['y'], test_data['prediction'])"
      ],
      "execution_count": null,
      "outputs": [
        {
          "output_type": "stream",
          "text": [
            "/usr/local/lib/python3.7/dist-packages/ipykernel_launcher.py:13: SettingWithCopyWarning: \n",
            "A value is trying to be set on a copy of a slice from a DataFrame.\n",
            "Try using .loc[row_indexer,col_indexer] = value instead\n",
            "\n",
            "See the caveats in the documentation: https://pandas.pydata.org/pandas-docs/stable/user_guide/indexing.html#returning-a-view-versus-a-copy\n",
            "  del sys.path[0]\n"
          ],
          "name": "stderr"
        },
        {
          "output_type": "execute_result",
          "data": {
            "text/plain": [
              "0.725"
            ]
          },
          "metadata": {
            "tags": []
          },
          "execution_count": 43
        }
      ]
    },
    {
      "cell_type": "code",
      "metadata": {
        "id": "lnO5Yibv77tf"
      },
      "source": [
        "# ***** PART II ***** KNN (5)"
      ],
      "execution_count": null,
      "outputs": []
    },
    {
      "cell_type": "code",
      "metadata": {
        "colab": {
          "base_uri": "https://localhost:8080/"
        },
        "id": "qPX4SpzC33cp",
        "outputId": "4174a458-2651-429e-dfec-aa789aea2d39"
      },
      "source": [
        "# kNN model (5) PART II\n",
        "from sklearn.neighbors import KNeighborsClassifier\n",
        "\n",
        "model_5nn = KNeighborsClassifier(n_neighbors=5)\n",
        "model_5nn.fit(raw_data[['x1', 'x2']], raw_data['y'])\n",
        "\n",
        "test_data['prediction'] = model_5nn.predict(test_data[input_cols])"
      ],
      "execution_count": null,
      "outputs": [
        {
          "output_type": "stream",
          "text": [
            "/usr/local/lib/python3.7/dist-packages/ipykernel_launcher.py:7: SettingWithCopyWarning: \n",
            "A value is trying to be set on a copy of a slice from a DataFrame.\n",
            "Try using .loc[row_indexer,col_indexer] = value instead\n",
            "\n",
            "See the caveats in the documentation: https://pandas.pydata.org/pandas-docs/stable/user_guide/indexing.html#returning-a-view-versus-a-copy\n",
            "  import sys\n"
          ],
          "name": "stderr"
        }
      ]
    },
    {
      "cell_type": "code",
      "metadata": {
        "colab": {
          "base_uri": "https://localhost:8080/",
          "height": 195
        },
        "id": "ASaQIIf19QfQ",
        "outputId": "d782e7d1-56fb-43e1-b0ff-41a222082da0"
      },
      "source": [
        "plot_data['prediction'] = model_5nn.predict(plot_data[input_cols])\n",
        "plot_data.head()"
      ],
      "execution_count": null,
      "outputs": [
        {
          "output_type": "execute_result",
          "data": {
            "text/html": [
              "<div>\n",
              "<style scoped>\n",
              "    .dataframe tbody tr th:only-of-type {\n",
              "        vertical-align: middle;\n",
              "    }\n",
              "\n",
              "    .dataframe tbody tr th {\n",
              "        vertical-align: top;\n",
              "    }\n",
              "\n",
              "    .dataframe thead th {\n",
              "        text-align: right;\n",
              "    }\n",
              "</style>\n",
              "<table border=\"1\" class=\"dataframe\">\n",
              "  <thead>\n",
              "    <tr style=\"text-align: right;\">\n",
              "      <th></th>\n",
              "      <th>x1</th>\n",
              "      <th>x2</th>\n",
              "      <th>prediction</th>\n",
              "    </tr>\n",
              "  </thead>\n",
              "  <tbody>\n",
              "    <tr>\n",
              "      <th>0</th>\n",
              "      <td>-3.0</td>\n",
              "      <td>-2.000000</td>\n",
              "      <td>0</td>\n",
              "    </tr>\n",
              "    <tr>\n",
              "      <th>1</th>\n",
              "      <td>-3.0</td>\n",
              "      <td>-1.949495</td>\n",
              "      <td>0</td>\n",
              "    </tr>\n",
              "    <tr>\n",
              "      <th>2</th>\n",
              "      <td>-3.0</td>\n",
              "      <td>-1.898990</td>\n",
              "      <td>0</td>\n",
              "    </tr>\n",
              "    <tr>\n",
              "      <th>3</th>\n",
              "      <td>-3.0</td>\n",
              "      <td>-1.848485</td>\n",
              "      <td>0</td>\n",
              "    </tr>\n",
              "    <tr>\n",
              "      <th>4</th>\n",
              "      <td>-3.0</td>\n",
              "      <td>-1.797980</td>\n",
              "      <td>0</td>\n",
              "    </tr>\n",
              "  </tbody>\n",
              "</table>\n",
              "</div>"
            ],
            "text/plain": [
              "    x1        x2  prediction\n",
              "0 -3.0 -2.000000           0\n",
              "1 -3.0 -1.949495           0\n",
              "2 -3.0 -1.898990           0\n",
              "3 -3.0 -1.848485           0\n",
              "4 -3.0 -1.797980           0"
            ]
          },
          "metadata": {
            "tags": []
          },
          "execution_count": 31
        }
      ]
    },
    {
      "cell_type": "code",
      "metadata": {
        "colab": {
          "base_uri": "https://localhost:8080/",
          "height": 282
        },
        "id": "uxmMloYn7h3R",
        "outputId": "54d8b0de-57aa-444f-a7e6-cd7dce518fd4"
      },
      "source": [
        "test_data_blue = plot_data[plot_data['prediction'] == 0]\n",
        "test_data_red = plot_data[plot_data['prediction'] == 1]\n",
        "plt.plot(test_data_blue['x1'], test_data_blue['x2'], 'b.', alpha=0.1)\n",
        "plt.plot(test_data_red['x1'], test_data_red['x2'], 'r.', alpha=0.1)\n",
        "plt.plot(blue_pts['x1'], blue_pts['x2'], 'b^', label='y = 0')\n",
        "plt.plot(red_pts['x1'], red_pts['x2'], 'r^', label='y = 1')"
      ],
      "execution_count": null,
      "outputs": [
        {
          "output_type": "execute_result",
          "data": {
            "text/plain": [
              "[<matplotlib.lines.Line2D at 0x7f5777ce5fd0>]"
            ]
          },
          "metadata": {
            "tags": []
          },
          "execution_count": 32
        },
        {
          "output_type": "display_data",
          "data": {
            "image/png": "[encoded data removed]",
            "text/plain": [
              "<Figure size 432x288 with 1 Axes>"
            ]
          },
          "metadata": {
            "tags": [],
            "needs_background": "light"
          }
        }
      ]
    },
    {
      "cell_type": "code",
      "metadata": {
        "colab": {
          "base_uri": "https://localhost:8080/"
        },
        "id": "Xi_jcaJf940R",
        "outputId": "49013a7b-0ad7-4d0e-f2bc-522b48cbcc85"
      },
      "source": [
        "# Calculate the accuracy score on the test set.\n",
        "\n",
        "# Split the dataset into training set and test set.\n",
        "# Set the size of test set to be 20%.\n",
        "\n",
        "# train_test_split\n",
        "\n",
        "training_data, test_data = train_test_split(raw_data, test_size=0.2)\n",
        "\n",
        "model_5nn_2 = KNeighborsClassifier(n_neighbors=5)\n",
        "model_5nn_2.fit(training_data[input_cols], training_data['y'])\n",
        "\n",
        "test_data['prediction'] = model_5nn_2.predict(test_data[input_cols])\n",
        "test_data.head()\n",
        "\n",
        "accuracy_score(test_data['y'], test_data['prediction'])"
      ],
      "execution_count": null,
      "outputs": [
        {
          "output_type": "stream",
          "text": [
            "/usr/local/lib/python3.7/dist-packages/ipykernel_launcher.py:13: SettingWithCopyWarning: \n",
            "A value is trying to be set on a copy of a slice from a DataFrame.\n",
            "Try using .loc[row_indexer,col_indexer] = value instead\n",
            "\n",
            "See the caveats in the documentation: https://pandas.pydata.org/pandas-docs/stable/user_guide/indexing.html#returning-a-view-versus-a-copy\n",
            "  del sys.path[0]\n"
          ],
          "name": "stderr"
        },
        {
          "output_type": "execute_result",
          "data": {
            "text/plain": [
              "0.775"
            ]
          },
          "metadata": {
            "tags": []
          },
          "execution_count": 42
        }
      ]
    },
    {
      "cell_type": "code",
      "metadata": {
        "id": "184m3_ceV0hx"
      },
      "source": [
        "# ***** PART III ***** KNN (25)"
      ],
      "execution_count": null,
      "outputs": []
    },
    {
      "cell_type": "code",
      "metadata": {
        "colab": {
          "base_uri": "https://localhost:8080/"
        },
        "id": "7RVvXUqYWHdx",
        "outputId": "25c72622-aede-45f4-a197-4aa7977ce990"
      },
      "source": [
        "# kNN model (25) PART III\n",
        "from sklearn.neighbors import KNeighborsClassifier\n",
        "\n",
        "model_25nn = KNeighborsClassifier(n_neighbors=25)\n",
        "model_25nn.fit(raw_data[['x1', 'x2']], raw_data['y'])\n",
        "\n",
        "test_data['prediction'] = model_25nn.predict(test_data[input_cols])"
      ],
      "execution_count": null,
      "outputs": [
        {
          "output_type": "stream",
          "text": [
            "/usr/local/lib/python3.7/dist-packages/ipykernel_launcher.py:7: SettingWithCopyWarning: \n",
            "A value is trying to be set on a copy of a slice from a DataFrame.\n",
            "Try using .loc[row_indexer,col_indexer] = value instead\n",
            "\n",
            "See the caveats in the documentation: https://pandas.pydata.org/pandas-docs/stable/user_guide/indexing.html#returning-a-view-versus-a-copy\n",
            "  import sys\n"
          ],
          "name": "stderr"
        }
      ]
    },
    {
      "cell_type": "code",
      "metadata": {
        "colab": {
          "base_uri": "https://localhost:8080/",
          "height": 195
        },
        "id": "o6Am1k-yWQFp",
        "outputId": "13867bdb-dfe2-4dc8-81bb-ee0b5b7793bc"
      },
      "source": [
        "plot_data['prediction'] = model_25nn.predict(plot_data[input_cols])\n",
        "plot_data.head()"
      ],
      "execution_count": null,
      "outputs": [
        {
          "output_type": "execute_result",
          "data": {
            "text/html": [
              "<div>\n",
              "<style scoped>\n",
              "    .dataframe tbody tr th:only-of-type {\n",
              "        vertical-align: middle;\n",
              "    }\n",
              "\n",
              "    .dataframe tbody tr th {\n",
              "        vertical-align: top;\n",
              "    }\n",
              "\n",
              "    .dataframe thead th {\n",
              "        text-align: right;\n",
              "    }\n",
              "</style>\n",
              "<table border=\"1\" class=\"dataframe\">\n",
              "  <thead>\n",
              "    <tr style=\"text-align: right;\">\n",
              "      <th></th>\n",
              "      <th>x1</th>\n",
              "      <th>x2</th>\n",
              "      <th>prediction</th>\n",
              "    </tr>\n",
              "  </thead>\n",
              "  <tbody>\n",
              "    <tr>\n",
              "      <th>0</th>\n",
              "      <td>-3.0</td>\n",
              "      <td>-2.000000</td>\n",
              "      <td>0</td>\n",
              "    </tr>\n",
              "    <tr>\n",
              "      <th>1</th>\n",
              "      <td>-3.0</td>\n",
              "      <td>-1.949495</td>\n",
              "      <td>0</td>\n",
              "    </tr>\n",
              "    <tr>\n",
              "      <th>2</th>\n",
              "      <td>-3.0</td>\n",
              "      <td>-1.898990</td>\n",
              "      <td>0</td>\n",
              "    </tr>\n",
              "    <tr>\n",
              "      <th>3</th>\n",
              "      <td>-3.0</td>\n",
              "      <td>-1.848485</td>\n",
              "      <td>0</td>\n",
              "    </tr>\n",
              "    <tr>\n",
              "      <th>4</th>\n",
              "      <td>-3.0</td>\n",
              "      <td>-1.797980</td>\n",
              "      <td>0</td>\n",
              "    </tr>\n",
              "  </tbody>\n",
              "</table>\n",
              "</div>"
            ],
            "text/plain": [
              "    x1        x2  prediction\n",
              "0 -3.0 -2.000000           0\n",
              "1 -3.0 -1.949495           0\n",
              "2 -3.0 -1.898990           0\n",
              "3 -3.0 -1.848485           0\n",
              "4 -3.0 -1.797980           0"
            ]
          },
          "metadata": {
            "tags": []
          },
          "execution_count": 37
        }
      ]
    },
    {
      "cell_type": "code",
      "metadata": {
        "colab": {
          "base_uri": "https://localhost:8080/",
          "height": 282
        },
        "id": "L-UJy9I9Wl1Z",
        "outputId": "ca633db9-bdde-4065-de4b-06735b49d28e"
      },
      "source": [
        "test_data_blue = plot_data[plot_data['prediction'] == 0]\n",
        "test_data_red = plot_data[plot_data['prediction'] == 1]\n",
        "plt.plot(test_data_blue['x1'], test_data_blue['x2'], 'b.', alpha=0.1)\n",
        "plt.plot(test_data_red['x1'], test_data_red['x2'], 'r.', alpha=0.1)\n",
        "plt.plot(blue_pts['x1'], blue_pts['x2'], 'b^', label='y = 0')\n",
        "plt.plot(red_pts['x1'], red_pts['x2'], 'r^', label='y = 1')"
      ],
      "execution_count": null,
      "outputs": [
        {
          "output_type": "execute_result",
          "data": {
            "text/plain": [
              "[<matplotlib.lines.Line2D at 0x7f5777c8ad10>]"
            ]
          },
          "metadata": {
            "tags": []
          },
          "execution_count": 38
        },
        {
          "output_type": "display_data",
          "data": {
            "image/png": "[encoded data removed]",
            "text/plain": [
              "<Figure size 432x288 with 1 Axes>"
            ]
          },
          "metadata": {
            "tags": [],
            "needs_background": "light"
          }
        }
      ]
    },
    {
      "cell_type": "code",
      "metadata": {
        "colab": {
          "base_uri": "https://localhost:8080/"
        },
        "id": "i1zmsPp6Wre6",
        "outputId": "c968ce65-6310-47c4-99b7-734b7d192d85"
      },
      "source": [
        "# Calculate the accuracy score on the test set.\n",
        "\n",
        "# Split the dataset into training set and test set.\n",
        "# Set the size of test set to be 20%.\n",
        "\n",
        "# train_test_split\n",
        "\n",
        "training_data, test_data = train_test_split(raw_data, test_size=0.2)\n",
        "\n",
        "model_25nn_2 = KNeighborsClassifier(n_neighbors=25)\n",
        "model_25nn_2.fit(training_data[input_cols], training_data['y'])\n",
        "\n",
        "test_data['prediction'] = model_25nn_2.predict(test_data[input_cols])\n",
        "test_data.head()\n",
        "\n",
        "accuracy_score(test_data['y'], test_data['prediction'])"
      ],
      "execution_count": null,
      "outputs": [
        {
          "output_type": "stream",
          "text": [
            "/usr/local/lib/python3.7/dist-packages/ipykernel_launcher.py:13: SettingWithCopyWarning: \n",
            "A value is trying to be set on a copy of a slice from a DataFrame.\n",
            "Try using .loc[row_indexer,col_indexer] = value instead\n",
            "\n",
            "See the caveats in the documentation: https://pandas.pydata.org/pandas-docs/stable/user_guide/indexing.html#returning-a-view-versus-a-copy\n",
            "  del sys.path[0]\n"
          ],
          "name": "stderr"
        },
        {
          "output_type": "execute_result",
          "data": {
            "text/plain": [
              "0.825"
            ]
          },
          "metadata": {
            "tags": []
          },
          "execution_count": 41
        }
      ]
    }
  ]
}