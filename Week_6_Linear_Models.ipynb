{
  "nbformat": 4,
  "nbformat_minor": 0,
  "metadata": {
    "colab": {
      "name": "Week 6: Linear Models.ipynb",
      "provenance": [],
      "collapsed_sections": [],
      "include_colab_link": true
    },
    "kernelspec": {
      "name": "python3",
      "display_name": "Python 3"
    }
  },
  "cells": [
    {
      "cell_type": "markdown",
      "metadata": {
        "id": "view-in-github",
        "colab_type": "text"
      },
      "source": [
        "<a href=\"https://colab.research.google.com/github/JAXMES/Artificial-Intelligence/blob/main/Week_6_Linear_Models.ipynb\" target=\"_parent\"><img src=\"https://colab.research.google.com/assets/colab-badge.svg\" alt=\"Open In Colab\"/></a>"
      ]
    },
    {
      "cell_type": "code",
      "metadata": {
        "colab": {
          "base_uri": "https://localhost:8080/",
          "height": 195
        },
        "id": "fF95AteemHEO",
        "outputId": "ca795c0c-93fd-46a0-b48e-68e1c364fad4"
      },
      "source": [
        "import numpy as np\n",
        "import pandas as pd\n",
        "import matplotlib.pyplot as plt\n",
        "%matplotlib inline\n",
        "\n",
        "from sklearn.model_selection import train_test_split\n",
        "from sklearn.neighbors import KNeighborsClassifier\n",
        "\n",
        "url = \"https://www.statlearning.com/s/Advertising.csv\"\n",
        "# Open the url in web brower and learn its raw format\n",
        "\n",
        "\n",
        "\n",
        "# Load to Python as a data frame\n",
        "raw_data = pd.read_csv(url, index_col=0)\n",
        "\n",
        "# Display first 5 rows\n",
        "raw_data.head()"
      ],
      "execution_count": null,
      "outputs": [
        {
          "output_type": "execute_result",
          "data": {
            "text/html": [
              "<div>\n",
              "<style scoped>\n",
              "    .dataframe tbody tr th:only-of-type {\n",
              "        vertical-align: middle;\n",
              "    }\n",
              "\n",
              "    .dataframe tbody tr th {\n",
              "        vertical-align: top;\n",
              "    }\n",
              "\n",
              "    .dataframe thead th {\n",
              "        text-align: right;\n",
              "    }\n",
              "</style>\n",
              "<table border=\"1\" class=\"dataframe\">\n",
              "  <thead>\n",
              "    <tr style=\"text-align: right;\">\n",
              "      <th></th>\n",
              "      <th>TV</th>\n",
              "      <th>radio</th>\n",
              "      <th>newspaper</th>\n",
              "      <th>sales</th>\n",
              "    </tr>\n",
              "  </thead>\n",
              "  <tbody>\n",
              "    <tr>\n",
              "      <th>1</th>\n",
              "      <td>230.1</td>\n",
              "      <td>37.8</td>\n",
              "      <td>69.2</td>\n",
              "      <td>22.1</td>\n",
              "    </tr>\n",
              "    <tr>\n",
              "      <th>2</th>\n",
              "      <td>44.5</td>\n",
              "      <td>39.3</td>\n",
              "      <td>45.1</td>\n",
              "      <td>10.4</td>\n",
              "    </tr>\n",
              "    <tr>\n",
              "      <th>3</th>\n",
              "      <td>17.2</td>\n",
              "      <td>45.9</td>\n",
              "      <td>69.3</td>\n",
              "      <td>9.3</td>\n",
              "    </tr>\n",
              "    <tr>\n",
              "      <th>4</th>\n",
              "      <td>151.5</td>\n",
              "      <td>41.3</td>\n",
              "      <td>58.5</td>\n",
              "      <td>18.5</td>\n",
              "    </tr>\n",
              "    <tr>\n",
              "      <th>5</th>\n",
              "      <td>180.8</td>\n",
              "      <td>10.8</td>\n",
              "      <td>58.4</td>\n",
              "      <td>12.9</td>\n",
              "    </tr>\n",
              "  </tbody>\n",
              "</table>\n",
              "</div>"
            ],
            "text/plain": [
              "      TV  radio  newspaper  sales\n",
              "1  230.1   37.8       69.2   22.1\n",
              "2   44.5   39.3       45.1   10.4\n",
              "3   17.2   45.9       69.3    9.3\n",
              "4  151.5   41.3       58.5   18.5\n",
              "5  180.8   10.8       58.4   12.9"
            ]
          },
          "metadata": {
            "tags": []
          },
          "execution_count": 76
        }
      ]
    },
    {
      "cell_type": "code",
      "metadata": {
        "colab": {
          "base_uri": "https://localhost:8080/",
          "height": 195
        },
        "id": "zomW8lfDm7D5",
        "outputId": "6875beff-b15a-44c9-b43c-314d43a2d736"
      },
      "source": [
        "# 1. Use train_test_split to split the data into training set (80%) and test set (20%).\n",
        "\n",
        "# train_test_split\n",
        "\n",
        "training_data, test_data = train_test_split(raw_data, test_size=0.2)\n",
        "\n",
        "test_data.head()"
      ],
      "execution_count": null,
      "outputs": [
        {
          "output_type": "execute_result",
          "data": {
            "text/html": [
              "<div>\n",
              "<style scoped>\n",
              "    .dataframe tbody tr th:only-of-type {\n",
              "        vertical-align: middle;\n",
              "    }\n",
              "\n",
              "    .dataframe tbody tr th {\n",
              "        vertical-align: top;\n",
              "    }\n",
              "\n",
              "    .dataframe thead th {\n",
              "        text-align: right;\n",
              "    }\n",
              "</style>\n",
              "<table border=\"1\" class=\"dataframe\">\n",
              "  <thead>\n",
              "    <tr style=\"text-align: right;\">\n",
              "      <th></th>\n",
              "      <th>TV</th>\n",
              "      <th>radio</th>\n",
              "      <th>newspaper</th>\n",
              "      <th>sales</th>\n",
              "    </tr>\n",
              "  </thead>\n",
              "  <tbody>\n",
              "    <tr>\n",
              "      <th>58</th>\n",
              "      <td>136.2</td>\n",
              "      <td>19.2</td>\n",
              "      <td>16.6</td>\n",
              "      <td>13.2</td>\n",
              "    </tr>\n",
              "    <tr>\n",
              "      <th>109</th>\n",
              "      <td>13.1</td>\n",
              "      <td>0.4</td>\n",
              "      <td>25.6</td>\n",
              "      <td>5.3</td>\n",
              "    </tr>\n",
              "    <tr>\n",
              "      <th>55</th>\n",
              "      <td>262.7</td>\n",
              "      <td>28.8</td>\n",
              "      <td>15.9</td>\n",
              "      <td>20.2</td>\n",
              "    </tr>\n",
              "    <tr>\n",
              "      <th>99</th>\n",
              "      <td>289.7</td>\n",
              "      <td>42.3</td>\n",
              "      <td>51.2</td>\n",
              "      <td>25.4</td>\n",
              "    </tr>\n",
              "    <tr>\n",
              "      <th>32</th>\n",
              "      <td>112.9</td>\n",
              "      <td>17.4</td>\n",
              "      <td>38.6</td>\n",
              "      <td>11.9</td>\n",
              "    </tr>\n",
              "  </tbody>\n",
              "</table>\n",
              "</div>"
            ],
            "text/plain": [
              "        TV  radio  newspaper  sales\n",
              "58   136.2   19.2       16.6   13.2\n",
              "109   13.1    0.4       25.6    5.3\n",
              "55   262.7   28.8       15.9   20.2\n",
              "99   289.7   42.3       51.2   25.4\n",
              "32   112.9   17.4       38.6   11.9"
            ]
          },
          "metadata": {
            "tags": []
          },
          "execution_count": 77
        }
      ]
    },
    {
      "cell_type": "code",
      "metadata": {
        "colab": {
          "base_uri": "https://localhost:8080/"
        },
        "id": "trl1Qxjztie_",
        "outputId": "5f07bd0c-d54c-4060-f9a4-57d78e845c32"
      },
      "source": [
        "# 2. Build a multilinear regression model with 'TV', 'Radio', and 'newspaper' as input variables and 'sales' as output variable. \n",
        "# Name the model model_lr. Train the model on the training set and obtain model predictions on the test set.\n",
        "\n",
        "from sklearn.linear_model import LinearRegression\n",
        "\n",
        "model_lr = LinearRegression()\n",
        "\n",
        "model_lr.fit(raw_data[['TV', 'radio','newspaper']], raw_data['sales']) "
      ],
      "execution_count": null,
      "outputs": [
        {
          "output_type": "execute_result",
          "data": {
            "text/plain": [
              "LinearRegression(copy_X=True, fit_intercept=True, n_jobs=None, normalize=False)"
            ]
          },
          "metadata": {
            "tags": []
          },
          "execution_count": 78
        }
      ]
    },
    {
      "cell_type": "code",
      "metadata": {
        "id": "gbt7HV92_nlT"
      },
      "source": [
        "# Train the model on the training set\n",
        "\n",
        "model_lr2 = LinearRegression()\n",
        "model_lr2.fit(training_data[['TV', 'radio','newspaper']], \\\n",
        " training_data['sales'])\n",
        "\n",
        "# Loading predictions\n",
        "predictions = model_lr2.predict(test_data[['TV', 'radio','newspaper']])"
      ],
      "execution_count": null,
      "outputs": []
    },
    {
      "cell_type": "code",
      "metadata": {
        "colab": {
          "base_uri": "https://localhost:8080/"
        },
        "id": "NqvtWa0F_t7S",
        "outputId": "56e04a77-d963-4401-dd0e-f7a975e6f3ac"
      },
      "source": [
        "# Two Degree (2) polynomial regression model with 'TV', 'Radio', and 'newspaper' as input variables and 'sales' as output variable. \n",
        "\n",
        "from sklearn.preprocessing import PolynomialFeatures\n",
        "poly_features = PolynomialFeatures(degree = 2, include_bias = False)\n",
        "poly_features.fit(test_data[['TV', 'radio','newspaper']], \\\n",
        " test_data['sales'])\n",
        "\n",
        "X_poly = poly_features.transform(test_data[['TV', 'radio','newspaper']])\n",
        "\n",
        "# Declare model_pr10 & train it\n",
        "model_pr = LinearRegression()\n",
        "model_pr.fit(X_poly, test_data['sales'])\n",
        "print(model_pr.coef_, model_pr.intercept_)\n",
        "\n",
        "# Loading model predictions for test data\n",
        "\n",
        "predictions_d2 = model_pr.predict(X_poly)"
      ],
      "execution_count": null,
      "outputs": [
        {
          "output_type": "stream",
          "text": [
            "[ 6.66832883e-02 -2.04252649e-02  1.46570644e-02 -1.48433430e-04\n",
            "  1.21754203e-03 -1.45893822e-04  2.44666524e-04  4.17157930e-04\n",
            " -4.49346366e-05] 4.376479921807464\n"
          ],
          "name": "stdout"
        }
      ]
    },
    {
      "cell_type": "code",
      "metadata": {
        "colab": {
          "base_uri": "https://localhost:8080/"
        },
        "id": "z-NhX97Z_wOa",
        "outputId": "0d27d676-066b-45cf-9d60-841507b686e6"
      },
      "source": [
        "# Ten Degree (10) polynomial regression model with 'TV', 'Radio', and 'newspaper' as input variables and 'sales' as output variable. \n",
        "\n",
        "poly_features10 = PolynomialFeatures(degree=10, include_bias=False)\n",
        "poly_features10.fit(test_data[['TV', 'radio','newspaper']], \\\n",
        " test_data['sales'])\n",
        "\n",
        "X10_poly = poly_features10.transform(test_data[['TV', 'radio','newspaper']])\n",
        "\n",
        "\n",
        "# Declare model_pr10 & train it\n",
        "model_pr10 = LinearRegression()\n",
        "model_pr10.fit(X10_poly, test_data['sales'])\n",
        "print(model_pr10.coef_, model_pr10.intercept_)\n",
        "\n",
        "# Loading model predictions for test data\n",
        "predictions_d10 = model_pr10.predict(X10_poly)"
      ],
      "execution_count": null,
      "outputs": [
        {
          "output_type": "stream",
          "text": [
            "[-3.00407421e-20 -7.88150114e-24 -1.49160845e-24  3.92170922e-24\n",
            "  9.60950340e-25  7.85779663e-25  2.77838887e-25  2.78197666e-25\n",
            " -4.86407453e-25  2.13971962e-22  5.37795324e-23  5.54603694e-23\n",
            "  1.29763213e-23  1.52799387e-23  6.79212424e-24  4.48499137e-24\n",
            "  3.61838467e-24  4.71668812e-24 -1.47779631e-23  1.04228005e-20\n",
            "  2.86296672e-21  2.77634062e-21  7.03548178e-22  7.85839582e-22\n",
            "  6.15804121e-22  1.76949004e-22  1.91102539e-22  2.14360260e-22\n",
            " -4.47107460e-23  8.19079169e-23  4.50884333e-23  5.07866063e-23\n",
            "  7.20200213e-23 -3.98238014e-22  4.40993607e-19  1.43766969e-19\n",
            "  1.12757541e-19  3.79627262e-20  3.81393858e-20  2.40498419e-20\n",
            "  9.27338072e-21  9.96554973e-21  9.31526955e-21  1.75009501e-21\n",
            "  2.58662516e-21  2.37693395e-21  2.40595369e-21  2.22754797e-21\n",
            " -4.68600893e-21  1.68145631e-21  5.81351838e-22  5.10855792e-22\n",
            "  5.29344033e-22  9.80970406e-22 -9.84082324e-21  1.46984945e-17\n",
            "  6.59642279e-18  3.27049417e-18  1.93538146e-18  1.67270473e-18\n",
            "  3.80067499e-19  4.90620115e-19  4.87285302e-19  3.46122240e-19\n",
            " -1.59244381e-19  1.23809167e-19  1.20185144e-19  1.02374191e-19\n",
            "  4.13533652e-20 -1.86181443e-19  4.17708188e-20  2.93799215e-20\n",
            "  2.38737575e-20  1.33644581e-20 -2.95898460e-21 -1.68732165e-19\n",
            "  3.69055720e-20  7.60851083e-21  4.23535446e-21  1.03554820e-21\n",
            " -2.02273483e-21  1.03913060e-20 -2.22425582e-19  3.14046663e-16\n",
            "  2.64418167e-16  3.01302017e-17  8.84727791e-17  6.28442010e-17\n",
            " -2.72088262e-17  2.34088834e-17  2.09945293e-17  8.84374565e-18\n",
            " -2.54773114e-17  5.94618838e-18  5.30196745e-18  3.32573408e-18\n",
            " -1.99738667e-18 -1.52479867e-17  1.65687765e-18  1.28967557e-18\n",
            "  7.58670549e-19 -3.00052517e-19 -2.40405288e-18 -8.00622499e-18\n",
            "  7.50852070e-19  3.57751337e-19  1.60152232e-19 -1.27207384e-19\n",
            " -5.93076503e-19 -1.12321818e-18 -4.62623512e-18  8.11258596e-19\n",
            "  9.23267288e-20  8.57773889e-21 -8.42810410e-20 -2.28140439e-19\n",
            " -3.69338262e-19  4.69729099e-20 -4.41796147e-18  4.65685550e-15\n",
            "  8.16112079e-15 -1.69192798e-15  3.12371753e-15  1.83688038e-15\n",
            " -2.09174370e-15  8.39109658e-16  6.76589857e-16  4.11214494e-17\n",
            " -1.59857341e-15  2.12526254e-16  1.57059360e-16  2.83049791e-17\n",
            " -2.75813052e-16 -9.51830103e-16  5.89138630e-17  3.43816145e-17\n",
            " -4.94500374e-18 -7.57675575e-17 -2.11435794e-16 -4.82732853e-16\n",
            "  2.11327470e-17  9.82832451e-18 -3.58041790e-18 -2.39843121e-17\n",
            " -5.78304569e-17 -1.11406027e-16 -2.23203337e-16  1.46589183e-17\n",
            "  4.43333705e-18 -4.90063885e-19 -6.79265015e-18 -1.64306989e-17\n",
            " -3.06722534e-17 -4.24762048e-17 -1.01812196e-16  1.63947879e-17\n",
            "  6.11994606e-19 -6.68211794e-19 -2.57621288e-18 -5.79285503e-18\n",
            " -1.06148311e-17 -1.51784032e-17 -3.87577084e-19 -6.72317091e-17\n",
            "  5.50193923e-16 -6.52531312e-15 -5.34875231e-15  2.28508251e-14\n",
            "  1.44254936e-14  2.06214033e-14  5.34284773e-15  3.54618917e-15\n",
            " -4.32352437e-15 -2.17623917e-14  8.37281674e-16 -1.54978206e-15\n",
            " -5.51928583e-15 -1.32335103e-14 -2.82996499e-14  2.50318412e-16\n",
            " -1.02586876e-15 -2.89287746e-15 -5.73651240e-15 -1.04978412e-14\n",
            " -1.85157399e-14  2.51929600e-16 -2.69121716e-16 -9.72516899e-16\n",
            " -1.97353253e-15 -3.53675683e-15 -5.92607666e-15 -9.57869866e-15\n",
            "  2.43281175e-16  2.84618977e-17 -2.09211351e-16 -5.26855853e-16\n",
            " -1.01321898e-15 -1.77384525e-15 -2.76066278e-15 -4.24415092e-15\n",
            "  3.05308424e-16  8.45774087e-17  1.08699865e-18 -9.50946586e-17\n",
            " -2.38014964e-16 -4.68147808e-16 -8.00735722e-16 -9.46229529e-16\n",
            " -1.48204553e-15  2.49042620e-16 -1.91291872e-17 -5.74511917e-18\n",
            " -2.62439680e-17 -7.57635432e-17 -1.60635314e-16 -2.95134223e-16\n",
            " -4.27682818e-16  4.68973092e-17 -3.71132264e-16 -1.85996811e-18\n",
            " -2.49300339e-19  2.67027720e-17  1.54213572e-16  3.43327875e-16\n",
            " -3.52330135e-16 -1.18472794e-15 -3.00859347e-15 -1.67926921e-15\n",
            "  2.72564546e-15  6.23904867e-15  5.36698195e-15  8.48048133e-15\n",
            "  4.58491946e-15 -1.10772124e-14 -1.47703985e-14 -5.89143846e-15\n",
            " -6.44231858e-15 -7.21432616e-15 -4.61702820e-15  1.81378505e-14\n",
            " -6.39217209e-15 -2.09608954e-15  3.54599267e-16  2.10241312e-15\n",
            " -2.35809055e-15 -7.35614120e-15  2.30864925e-16  2.30619094e-15\n",
            "  4.28873215e-15  6.04203744e-15  8.69846809e-15  8.63463440e-15\n",
            "  2.42729849e-15 -6.55134899e-15 -8.35072784e-15  5.08716056e-15\n",
            "  5.77513834e-15  6.78673629e-15  8.50836467e-15  9.83540626e-15\n",
            "  8.67993425e-15  3.09008456e-15 -2.77122442e-15 -3.69106976e-15\n",
            "  7.36409665e-15  4.47113411e-15  4.88295225e-15  5.73665775e-15\n",
            "  6.64462538e-15  6.87090789e-15  5.17193019e-15  6.99612569e-16\n",
            "  1.07273853e-15  3.75215253e-15 -4.22871009e-16 -9.90483111e-16\n",
            "  1.48181330e-15  2.31806876e-15  2.56916365e-15  2.34741067e-15\n",
            "  1.14426456e-15 -2.03008245e-15 -7.20643164e-15  7.50622439e-17\n",
            "  1.09788822e-15] 5.161488885740818\n"
          ],
          "name": "stdout"
        }
      ]
    },
    {
      "cell_type": "code",
      "metadata": {
        "colab": {
          "base_uri": "https://localhost:8080/"
        },
        "id": "jQ8Eo8Sh_yo6",
        "outputId": "6e9a82e3-eba4-4142-83fe-8c9340f78255"
      },
      "source": [
        "# Calculate the test MSE of each model using the mean_squared_error function. Which model gives the best MSE? (Text Data)\n",
        "from sklearn.metrics import mean_squared_error\n",
        "\n",
        "mse = mean_squared_error(test_data[[\"sales\"]],predictions)\n",
        "print(\"MSE:\", mse)"
      ],
      "execution_count": null,
      "outputs": [
        {
          "output_type": "stream",
          "text": [
            "MSE: 4.483279334177967\n"
          ],
          "name": "stdout"
        }
      ]
    },
    {
      "cell_type": "code",
      "metadata": {
        "colab": {
          "base_uri": "https://localhost:8080/"
        },
        "id": "RhfRUcZp_2zy",
        "outputId": "81d35105-76c8-4354-f71c-8cf83f3ec9a0"
      },
      "source": [
        "# MSE - Degree 2 (Text Data)\n",
        "mse_d2 = mean_squared_error(test_data[[\"sales\"]],predictions_d2)\n",
        "print(\"2 Degrees - MSE:\", mse_d2)"
      ],
      "execution_count": null,
      "outputs": [
        {
          "output_type": "stream",
          "text": [
            "2 Degrees - MSE: 0.46244524198622433\n"
          ],
          "name": "stdout"
        }
      ]
    },
    {
      "cell_type": "code",
      "metadata": {
        "colab": {
          "base_uri": "https://localhost:8080/"
        },
        "id": "qFLvbfis_4ny",
        "outputId": "9eefeb79-ce9f-4357-efbb-329d51807b53"
      },
      "source": [
        "# MSE - Degree 10 (Text Data)\n",
        "mse_d10 = mean_squared_error(test_data[[\"sales\"]],predictions_d10)\n",
        "print(\"10 Degrees - MSE:\", mse_d10)"
      ],
      "execution_count": null,
      "outputs": [
        {
          "output_type": "stream",
          "text": [
            "10 Degrees - MSE: 5.093559481132551e-08\n"
          ],
          "name": "stdout"
        }
      ]
    }
  ]
}